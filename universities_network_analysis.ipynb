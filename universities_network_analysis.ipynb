{
 "cells": [
  {
   "cell_type": "markdown",
   "metadata": {},
   "source": [
    "# University network"
   ]
  },
  {
   "cell_type": "code",
   "execution_count": 81,
   "metadata": {},
   "outputs": [],
   "source": [
    "import json\n",
    "import ast\n",
    "import networkx as nx\n",
    "from matplotlib import pyplot as plt\n",
    "import itertools\n",
    "from tqdm import tqdm\n",
    "import pandas as pd\n",
    "from collections import Counter, defaultdict\n",
    "pd.set_option('display.max_rows', 200)\n",
    "import numpy as np\n",
    "import community\n",
    "from networkx.algorithms.community.modularity_max import greedy_modularity_communities\n",
    "from networkx.algorithms.community.quality import modularity\n",
    "\n",
    "import os\n",
    "import time"
   ]
  },
  {
   "cell_type": "code",
   "execution_count": 82,
   "metadata": {},
   "outputs": [
    {
     "data": {
      "text/plain": [
       "200"
      ]
     },
     "execution_count": 82,
     "metadata": {},
     "output_type": "execute_result"
    }
   ],
   "source": [
    "pd.options.display.max_rows"
   ]
  },
  {
   "cell_type": "markdown",
   "metadata": {},
   "source": [
    "## Read data from csv file (this csv file was created in the preprocessing notebook)"
   ]
  },
  {
   "cell_type": "code",
   "execution_count": 83,
   "metadata": {},
   "outputs": [],
   "source": [
    "df_uni = pd.read_csv('2019_uni_weighted_edges.csv')"
   ]
  },
  {
   "cell_type": "code",
   "execution_count": 84,
   "metadata": {},
   "outputs": [],
   "source": [
    "all_orgs = set(df_uni.org1).union(set(df_uni.org2))"
   ]
  },
  {
   "cell_type": "code",
   "execution_count": 85,
   "metadata": {},
   "outputs": [],
   "source": [
    "dict_aliases = {}\n",
    "renamed = set()\n",
    "\n",
    "def rename(org_str,name):\n",
    "    aliases = []\n",
    "    for org in list(all_orgs):\n",
    "        if org == org:\n",
    "            if(org.find(org_str)>-1):\n",
    "                aliases.append(org)\n",
    "    count = 0\n",
    "    for alias in aliases:\n",
    "        dict_aliases[alias] = name\n",
    "        count += 1\n",
    "    print(f'Number of aliases for {name} : {count}')\n",
    "    renamed.add(name)"
   ]
  },
  {
   "cell_type": "code",
   "execution_count": 86,
   "metadata": {},
   "outputs": [
    {
     "name": "stdout",
     "output_type": "stream",
     "text": [
      "Number of aliases for Harvard : 267\n",
      "Number of aliases for Beihang University : 243\n",
      "Number of aliases for Carnegie - Mellon : 216\n",
      "Number of aliases for Institute of Electrical and Electronics Engineers : 1\n",
      "Number of aliases for Johns Hopkins University : 158\n",
      "Number of aliases for MIT : 249\n",
      "Number of aliases for MIT : 1\n",
      "Number of aliases for National University of Singapore : 156\n",
      "Number of aliases for Northeastern University : 198\n",
      "Number of aliases for Peking University : 296\n",
      "Number of aliases for Princeton University : 90\n",
      "Number of aliases for University of Southern California : 133\n",
      "Number of aliases for Stanford University : 206\n",
      "Number of aliases for Tsinghua University : 404\n",
      "Number of aliases for UC Berkeley : 26\n",
      "Number of aliases for Xidian University : 240\n",
      "Number of aliases for University of Cambridge : 605\n",
      "Number of aliases for University of Oxford : 276\n",
      "Number of aliases for Columbia University : 145\n",
      "Number of aliases for Yale : 90\n",
      "Number of aliases for Cornell : 135\n",
      "Number of aliases for University of Tokyo : 169\n",
      "Number of aliases for Duke : 116\n",
      "Number of aliases for University of Chicago : 45\n",
      "Number of aliases for UC Berkeley : 72\n",
      "Number of aliases for Microsoft : 197\n",
      "Number of aliases for Google : 4\n",
      "Number of aliases for Technical University of Munich : 114\n",
      "Number of aliases for Zhejiang Univ : 549\n",
      "Number of aliases for Imperial College London : 176\n",
      "Number of aliases for IBM : 300\n",
      "Number of aliases for UCLA : 31\n",
      "Number of aliases for City University of Hong Kong : 118\n",
      "Number of aliases for University Of California, Davis : 1\n",
      "Number of aliases for University of British Columbia : 87\n",
      "Number of aliases for University of Utah : 84\n",
      "Number of aliases for Royal Institute of Tech : 109\n",
      "Number of aliases for University of Pennsylvania : 125\n",
      "Number of aliases for Hangzhou Dianzi : 62\n",
      "Number of aliases for nVIDIA : 1\n",
      "Number of aliases for University of Oulu Finland : 60\n",
      "Number of aliases for Kyushu University : 58\n",
      "Number of aliases for TU WIEN : 2\n",
      "Number of aliases for Shanghai Jiao Tong university : 1\n",
      "Number of aliases for University of Virginia : 73\n",
      "Number of aliases for ETH Zürich : 62\n",
      "Number of aliases for Amazon : 107\n"
     ]
    }
   ],
   "source": [
    "rename('Harvard','Harvard')\n",
    "rename('Beihang University','Beihang University')\n",
    "rename('Carnegie','Carnegie - Mellon')\n",
    "rename('Institute of Electrical and Electronics Engineers','Institute of Electrical and Electronics Engineers')\n",
    "rename('Johns Hopkins','Johns Hopkins University')\n",
    "rename('MIT','MIT')\n",
    "rename('massachusetts institute of technology','MIT')\n",
    "rename('National University of Singapore','National University of Singapore')\n",
    "rename('Northeastern','Northeastern University')\n",
    "rename('Peking','Peking University')\n",
    "rename('Princeton','Princeton University')\n",
    "rename('Southern California','University of Southern California')\n",
    "rename('Stanford','Stanford University')\n",
    "rename('Tsinghua','Tsinghua University')\n",
    "rename('UC Berkeley','UC Berkeley')\n",
    "rename('Xidian University','Xidian University')\n",
    "rename('Cambridge','University of Cambridge')\n",
    "rename('Oxford','University of Oxford')\n",
    "rename('Columbia University','Columbia University')\n",
    "rename('Yale','Yale')\n",
    "rename('Cornell','Cornell')\n",
    "rename('University of Tokyo','University of Tokyo')\n",
    "rename('Duke','Duke')\n",
    "rename('University of Chicago','University of Chicago')\n",
    "rename('University of California, Berkeley','UC Berkeley')\n",
    "rename('Microsoft','Microsoft')\n",
    "rename('GOOGLE','Google')\n",
    "rename('Technical University of Munich','Technical University of Munich')\n",
    "rename('Zhejiang','Zhejiang Univ')\n",
    "rename('Imperial College','Imperial College London')\n",
    "rename('IBM','IBM')\n",
    "rename('UCLA','UCLA')\n",
    "rename('City University of Hong Kong','City University of Hong Kong')\n",
    "rename('University Of California, Davis','University Of California, Davis')\n",
    "rename('University of British Columbia','University of British Columbia')\n",
    "rename('University of Utah','University of Utah')\n",
    "rename('Royal Institute of Tech','Royal Institute of Tech')\n",
    "rename('University of Pennsylvania','University of Pennsylvania')\n",
    "rename('Hangzhou Dianzi','Hangzhou Dianzi')\n",
    "rename('nVIDIA','nVIDIA')\n",
    "rename('of Oulu','University of Oulu Finland')\n",
    "rename('Kyushu University','Kyushu University')\n",
    "rename('TU WIEN','TU WIEN')\n",
    "rename('Shanghai Jiao Tong university','Shanghai Jiao Tong university')\n",
    "rename('University of Virginia','University of Virginia')\n",
    "rename('ETH Zürich','ETH Zürich')\n",
    "rename('Amazon','Amazon')\n"
   ]
  },
  {
   "cell_type": "code",
   "execution_count": 87,
   "metadata": {},
   "outputs": [],
   "source": [
    "for org in list(all_orgs):\n",
    "    if(org not in dict_aliases.keys()):\n",
    "        dict_aliases[org] = org"
   ]
  },
  {
   "cell_type": "code",
   "execution_count": 88,
   "metadata": {},
   "outputs": [],
   "source": [
    "df_uni['_org1'] = df_uni.org1.apply(lambda x: dict_aliases[x])\n",
    "df_uni['_org2'] = df_uni.org2.apply(lambda x: dict_aliases[x])"
   ]
  },
  {
   "cell_type": "code",
   "execution_count": 89,
   "metadata": {},
   "outputs": [],
   "source": [
    "df_uni = df_uni[['_org1','_org2','weight']]\n",
    "df_uni.columns = ['org1','org2','weight']"
   ]
  },
  {
   "cell_type": "code",
   "execution_count": 90,
   "metadata": {},
   "outputs": [],
   "source": [
    "df_uni = df_uni.groupby(['org1','org2'])[['weight']].sum().reset_index()"
   ]
  },
  {
   "cell_type": "code",
   "execution_count": 91,
   "metadata": {},
   "outputs": [
    {
     "data": {
      "text/html": [
       "<div>\n",
       "<style scoped>\n",
       "    .dataframe tbody tr th:only-of-type {\n",
       "        vertical-align: middle;\n",
       "    }\n",
       "\n",
       "    .dataframe tbody tr th {\n",
       "        vertical-align: top;\n",
       "    }\n",
       "\n",
       "    .dataframe thead th {\n",
       "        text-align: right;\n",
       "    }\n",
       "</style>\n",
       "<table border=\"1\" class=\"dataframe\">\n",
       "  <thead>\n",
       "    <tr style=\"text-align: right;\">\n",
       "      <th></th>\n",
       "      <th>org1</th>\n",
       "      <th>org2</th>\n",
       "      <th>weight</th>\n",
       "    </tr>\n",
       "  </thead>\n",
       "  <tbody>\n",
       "    <tr>\n",
       "      <th>182103</th>\n",
       "      <td>Tsinghua University</td>\n",
       "      <td>Tsinghua University</td>\n",
       "      <td>492</td>\n",
       "    </tr>\n",
       "    <tr>\n",
       "      <th>161488</th>\n",
       "      <td>Peking University</td>\n",
       "      <td>Peking University</td>\n",
       "      <td>375</td>\n",
       "    </tr>\n",
       "    <tr>\n",
       "      <th>192353</th>\n",
       "      <td>Zhejiang Univ</td>\n",
       "      <td>Zhejiang Univ</td>\n",
       "      <td>289</td>\n",
       "    </tr>\n",
       "    <tr>\n",
       "      <th>191707</th>\n",
       "      <td>Xidian University</td>\n",
       "      <td>Xidian University</td>\n",
       "      <td>281</td>\n",
       "    </tr>\n",
       "    <tr>\n",
       "      <th>23852</th>\n",
       "      <td>Beihang University</td>\n",
       "      <td>Beihang University</td>\n",
       "      <td>224</td>\n",
       "    </tr>\n",
       "    <tr>\n",
       "      <th>...</th>\n",
       "      <td>...</td>\n",
       "      <td>...</td>\n",
       "      <td>...</td>\n",
       "    </tr>\n",
       "    <tr>\n",
       "      <th>73059</th>\n",
       "      <td>Department of Computer and Technology, College...</td>\n",
       "      <td>Dundee Business School, Abertay University, Le...</td>\n",
       "      <td>1</td>\n",
       "    </tr>\n",
       "    <tr>\n",
       "      <th>73060</th>\n",
       "      <td>Department of Computer and information Technol...</td>\n",
       "      <td>IDP-Educational Technology, IIT Bombay</td>\n",
       "      <td>1</td>\n",
       "    </tr>\n",
       "    <tr>\n",
       "      <th>73061</th>\n",
       "      <td>Department of Computer and information Technol...</td>\n",
       "      <td>University of Cincinnati</td>\n",
       "      <td>1</td>\n",
       "    </tr>\n",
       "    <tr>\n",
       "      <th>73062</th>\n",
       "      <td>Department of Computer and information Technol...</td>\n",
       "      <td>Xi’an Jiaotong University</td>\n",
       "      <td>1</td>\n",
       "    </tr>\n",
       "    <tr>\n",
       "      <th>96210</th>\n",
       "      <td>Dolby Labs.</td>\n",
       "      <td>Trellis Management Ltd</td>\n",
       "      <td>1</td>\n",
       "    </tr>\n",
       "  </tbody>\n",
       "</table>\n",
       "<p>192421 rows × 3 columns</p>\n",
       "</div>"
      ],
      "text/plain": [
       "                                                     org1  \\\n",
       "182103                                Tsinghua University   \n",
       "161488                                  Peking University   \n",
       "192353                                      Zhejiang Univ   \n",
       "191707                                  Xidian University   \n",
       "23852                                  Beihang University   \n",
       "...                                                   ...   \n",
       "73059   Department of Computer and Technology, College...   \n",
       "73060   Department of Computer and information Technol...   \n",
       "73061   Department of Computer and information Technol...   \n",
       "73062   Department of Computer and information Technol...   \n",
       "96210                                         Dolby Labs.   \n",
       "\n",
       "                                                     org2  weight  \n",
       "182103                                Tsinghua University     492  \n",
       "161488                                  Peking University     375  \n",
       "192353                                      Zhejiang Univ     289  \n",
       "191707                                  Xidian University     281  \n",
       "23852                                  Beihang University     224  \n",
       "...                                                   ...     ...  \n",
       "73059   Dundee Business School, Abertay University, Le...       1  \n",
       "73060              IDP-Educational Technology, IIT Bombay       1  \n",
       "73061                            University of Cincinnati       1  \n",
       "73062                           Xi’an Jiaotong University       1  \n",
       "96210                              Trellis Management Ltd       1  \n",
       "\n",
       "[192421 rows x 3 columns]"
      ]
     },
     "execution_count": 91,
     "metadata": {},
     "output_type": "execute_result"
    }
   ],
   "source": [
    "df_uni.sort_values(by = 'weight', ascending = False)"
   ]
  },
  {
   "cell_type": "code",
   "execution_count": 92,
   "metadata": {},
   "outputs": [],
   "source": [
    "df_uni['valid_colab'] = df_uni.org1 != df_uni.org2"
   ]
  },
  {
   "cell_type": "code",
   "execution_count": 93,
   "metadata": {},
   "outputs": [],
   "source": [
    "df_uni = df_uni[df_uni.valid_colab == True]"
   ]
  },
  {
   "cell_type": "code",
   "execution_count": 94,
   "metadata": {},
   "outputs": [
    {
     "data": {
      "text/html": [
       "<div>\n",
       "<style scoped>\n",
       "    .dataframe tbody tr th:only-of-type {\n",
       "        vertical-align: middle;\n",
       "    }\n",
       "\n",
       "    .dataframe tbody tr th {\n",
       "        vertical-align: top;\n",
       "    }\n",
       "\n",
       "    .dataframe thead th {\n",
       "        text-align: right;\n",
       "    }\n",
       "</style>\n",
       "<table border=\"1\" class=\"dataframe\">\n",
       "  <thead>\n",
       "    <tr style=\"text-align: right;\">\n",
       "      <th></th>\n",
       "      <th>org1</th>\n",
       "      <th>org2</th>\n",
       "      <th>weight</th>\n",
       "      <th>valid_colab</th>\n",
       "    </tr>\n",
       "  </thead>\n",
       "  <tbody>\n",
       "    <tr>\n",
       "      <th>186666</th>\n",
       "      <td>University of Cambridge</td>\n",
       "      <td>MIT</td>\n",
       "      <td>211</td>\n",
       "      <td>True</td>\n",
       "    </tr>\n",
       "    <tr>\n",
       "      <th>150934</th>\n",
       "      <td>Microsoft</td>\n",
       "      <td>Tsinghua University</td>\n",
       "      <td>177</td>\n",
       "      <td>True</td>\n",
       "    </tr>\n",
       "    <tr>\n",
       "      <th>150740</th>\n",
       "      <td>Microsoft</td>\n",
       "      <td>Peking University</td>\n",
       "      <td>106</td>\n",
       "      <td>True</td>\n",
       "    </tr>\n",
       "    <tr>\n",
       "      <th>33174</th>\n",
       "      <td>CMU;</td>\n",
       "      <td>Carnegie - Mellon</td>\n",
       "      <td>83</td>\n",
       "      <td>True</td>\n",
       "    </tr>\n",
       "    <tr>\n",
       "      <th>150512</th>\n",
       "      <td>Microsoft</td>\n",
       "      <td>Carnegie - Mellon</td>\n",
       "      <td>63</td>\n",
       "      <td>True</td>\n",
       "    </tr>\n",
       "    <tr>\n",
       "      <th>...</th>\n",
       "      <td>...</td>\n",
       "      <td>...</td>\n",
       "      <td>...</td>\n",
       "      <td>...</td>\n",
       "    </tr>\n",
       "    <tr>\n",
       "      <th>73047</th>\n",
       "      <td>Department of Computer and Software Nanjing Un...</td>\n",
       "      <td>New Jersey Institute of Technology , Newark , USA</td>\n",
       "      <td>1</td>\n",
       "      <td>True</td>\n",
       "    </tr>\n",
       "    <tr>\n",
       "      <th>73048</th>\n",
       "      <td>Department of Computer and Software Nanjing Un...</td>\n",
       "      <td>State Key Laboratory of Mathematical Engineeri...</td>\n",
       "      <td>1</td>\n",
       "      <td>True</td>\n",
       "    </tr>\n",
       "    <tr>\n",
       "      <th>73049</th>\n",
       "      <td>Department of Computer and Software, Hanyang U...</td>\n",
       "      <td>HanYang Univ.</td>\n",
       "      <td>1</td>\n",
       "      <td>True</td>\n",
       "    </tr>\n",
       "    <tr>\n",
       "      <th>73050</th>\n",
       "      <td>Department of Computer and Software, Hanyang U...</td>\n",
       "      <td>Naver Corporation</td>\n",
       "      <td>1</td>\n",
       "      <td>True</td>\n",
       "    </tr>\n",
       "    <tr>\n",
       "      <th>96197</th>\n",
       "      <td>Documentation Research &amp; Training Center, Indi...</td>\n",
       "      <td>LINFI Laboratory, Biskra University, Algeria</td>\n",
       "      <td>1</td>\n",
       "      <td>True</td>\n",
       "    </tr>\n",
       "  </tbody>\n",
       "</table>\n",
       "<p>192383 rows × 4 columns</p>\n",
       "</div>"
      ],
      "text/plain": [
       "                                                     org1  \\\n",
       "186666                            University of Cambridge   \n",
       "150934                                          Microsoft   \n",
       "150740                                          Microsoft   \n",
       "33174                                                CMU;   \n",
       "150512                                          Microsoft   \n",
       "...                                                   ...   \n",
       "73047   Department of Computer and Software Nanjing Un...   \n",
       "73048   Department of Computer and Software Nanjing Un...   \n",
       "73049   Department of Computer and Software, Hanyang U...   \n",
       "73050   Department of Computer and Software, Hanyang U...   \n",
       "96197   Documentation Research & Training Center, Indi...   \n",
       "\n",
       "                                                     org2  weight  valid_colab  \n",
       "186666                                                MIT     211         True  \n",
       "150934                                Tsinghua University     177         True  \n",
       "150740                                  Peking University     106         True  \n",
       "33174                                   Carnegie - Mellon      83         True  \n",
       "150512                                  Carnegie - Mellon      63         True  \n",
       "...                                                   ...     ...          ...  \n",
       "73047   New Jersey Institute of Technology , Newark , USA       1         True  \n",
       "73048   State Key Laboratory of Mathematical Engineeri...       1         True  \n",
       "73049                                       HanYang Univ.       1         True  \n",
       "73050                                   Naver Corporation       1         True  \n",
       "96197        LINFI Laboratory, Biskra University, Algeria       1         True  \n",
       "\n",
       "[192383 rows x 4 columns]"
      ]
     },
     "execution_count": 94,
     "metadata": {},
     "output_type": "execute_result"
    }
   ],
   "source": [
    "df_uni.sort_values(by = 'weight', ascending = False)"
   ]
  },
  {
   "cell_type": "markdown",
   "metadata": {},
   "source": [
    "## Filter organization for more than one colab"
   ]
  },
  {
   "cell_type": "code",
   "execution_count": 95,
   "metadata": {},
   "outputs": [
    {
     "name": "stdout",
     "output_type": "stream",
     "text": [
      "Name: \n",
      "Type: Graph\n",
      "Number of nodes: 91639\n",
      "Number of edges: 190802\n",
      "Average degree:   4.1642\n"
     ]
    }
   ],
   "source": [
    "G = nx.from_pandas_edgelist(df_uni[['org1','org2','weight']],'org1','org2', edge_attr='weight')\n",
    "print(nx.info(G))"
   ]
  },
  {
   "cell_type": "code",
   "execution_count": 96,
   "metadata": {},
   "outputs": [],
   "source": [
    "def plot_degree_dist(G):\n",
    "    degree_hist = nx.degree_histogram(G) \n",
    "    degree_hist = np.array(degree_hist, dtype=float)\n",
    "    degree_prob = degree_hist/G.number_of_nodes()\n",
    "    \n",
    "    # plotting\n",
    "    fig = plt.figure(figsize=(6,6))\n",
    "    axes = fig.add_axes([1,1,1,1])\n",
    "    \n",
    "    axes.loglog(np.arange(degree_prob.shape[0]), degree_prob, 'b.', markersize=15, alpha=0.5)\n",
    "    \n",
    "    axes.set_xlabel('k')\n",
    "    axes.set_ylabel('p(k)')\n",
    "    axes.set_title('Degree Distribution')\n",
    "    \n",
    "    plt.show()"
   ]
  },
  {
   "cell_type": "code",
   "execution_count": 97,
   "metadata": {},
   "outputs": [
    {
     "data": {
      "image/png": "[encoded data removed]",
      "text/plain": [
       "<Figure size 432x432 with 1 Axes>"
      ]
     },
     "metadata": {
      "needs_background": "light"
     },
     "output_type": "display_data"
    },
    {
     "name": "stdout",
     "output_type": "stream",
     "text": [
      "Name: \n",
      "Type: Graph\n",
      "Number of nodes: 91639\n",
      "Number of edges: 190802\n",
      "Average degree:   4.1642\n"
     ]
    }
   ],
   "source": [
    "plot_degree_dist(G)\n",
    "print (nx.info(G))"
   ]
  },
  {
   "cell_type": "code",
   "execution_count": 98,
   "metadata": {},
   "outputs": [],
   "source": [
    "def plot_strength_dist(G):\n",
    "    strength_lst = list(dict(G.degree(weight='weight')).values())\n",
    "    max_val = max(strength_lst)\n",
    "    strength_hist = np.histogram(strength_lst, np.arange(max_val+2))[0]\n",
    "    strength_hist = strength_hist.astype('float64')\n",
    "    strength_prob = strength_hist/len(strength_lst)\n",
    "    \n",
    "    # plotting\n",
    "    fig = plt.figure(figsize=(6,6))\n",
    "    axes = fig.add_axes([1,1,1,1])\n",
    "    \n",
    "    axes.loglog(np.arange(strength_prob.shape[0]), strength_prob, 'b.', markersize=15, alpha=0.5)\n",
    "    \n",
    "    axes.set_xlabel('s')\n",
    "    axes.set_ylabel('p(s)')\n",
    "    axes.set_title('Strength Distribution')\n",
    "    \n",
    "    plt.show()"
   ]
  },
  {
   "cell_type": "code",
   "execution_count": 99,
   "metadata": {},
   "outputs": [
    {
     "data": {
      "text/html": [
       "<div>\n",
       "<style scoped>\n",
       "    .dataframe tbody tr th:only-of-type {\n",
       "        vertical-align: middle;\n",
       "    }\n",
       "\n",
       "    .dataframe tbody tr th {\n",
       "        vertical-align: top;\n",
       "    }\n",
       "\n",
       "    .dataframe thead th {\n",
       "        text-align: right;\n",
       "    }\n",
       "</style>\n",
       "<table border=\"1\" class=\"dataframe\">\n",
       "  <thead>\n",
       "    <tr style=\"text-align: right;\">\n",
       "      <th></th>\n",
       "      <th>org1</th>\n",
       "      <th>org2</th>\n",
       "      <th>weight</th>\n",
       "      <th>valid_colab</th>\n",
       "    </tr>\n",
       "  </thead>\n",
       "  <tbody>\n",
       "    <tr>\n",
       "      <th>19177</th>\n",
       "      <td>Ariel University</td>\n",
       "      <td>Capital One, Arlington, VA, USA#TAB#</td>\n",
       "      <td>1</td>\n",
       "      <td>True</td>\n",
       "    </tr>\n",
       "    <tr>\n",
       "      <th>19178</th>\n",
       "      <td>Ariel University</td>\n",
       "      <td>Communication Systems Engineering, Ben-Gurion ...</td>\n",
       "      <td>1</td>\n",
       "      <td>True</td>\n",
       "    </tr>\n",
       "    <tr>\n",
       "      <th>19179</th>\n",
       "      <td>Ariel University</td>\n",
       "      <td>Cyber Innovation Center, Department of Compute...</td>\n",
       "      <td>1</td>\n",
       "      <td>True</td>\n",
       "    </tr>\n",
       "    <tr>\n",
       "      <th>19180</th>\n",
       "      <td>Ariel University</td>\n",
       "      <td>Department of Computer Science, Ariel Universi...</td>\n",
       "      <td>3</td>\n",
       "      <td>True</td>\n",
       "    </tr>\n",
       "    <tr>\n",
       "      <th>19181</th>\n",
       "      <td>Ariel University</td>\n",
       "      <td>Department of Disaster Management and Injury P...</td>\n",
       "      <td>1</td>\n",
       "      <td>True</td>\n",
       "    </tr>\n",
       "    <tr>\n",
       "      <th>19182</th>\n",
       "      <td>Ariel University</td>\n",
       "      <td>Department of Electrical and Systems Engineeri...</td>\n",
       "      <td>2</td>\n",
       "      <td>True</td>\n",
       "    </tr>\n",
       "    <tr>\n",
       "      <th>19183</th>\n",
       "      <td>Ariel University</td>\n",
       "      <td>Department of Industrial Engineering &amp; Managem...</td>\n",
       "      <td>1</td>\n",
       "      <td>True</td>\n",
       "    </tr>\n",
       "    <tr>\n",
       "      <th>19184</th>\n",
       "      <td>Ariel University</td>\n",
       "      <td>Department of Information Systems, Sam M. Walt...</td>\n",
       "      <td>2</td>\n",
       "      <td>True</td>\n",
       "    </tr>\n",
       "    <tr>\n",
       "      <th>19185</th>\n",
       "      <td>Ariel University</td>\n",
       "      <td>Dept. of Information &amp; Knowledge Management, F...</td>\n",
       "      <td>1</td>\n",
       "      <td>True</td>\n",
       "    </tr>\n",
       "    <tr>\n",
       "      <th>19186</th>\n",
       "      <td>Ariel University</td>\n",
       "      <td>Faculty of Management, University of Haifa, Ha...</td>\n",
       "      <td>1</td>\n",
       "      <td>True</td>\n",
       "    </tr>\n",
       "    <tr>\n",
       "      <th>19187</th>\n",
       "      <td>Ariel University</td>\n",
       "      <td>Google Inc, Mountain View, CA, USA</td>\n",
       "      <td>1</td>\n",
       "      <td>True</td>\n",
       "    </tr>\n",
       "    <tr>\n",
       "      <th>19188</th>\n",
       "      <td>Ariel University</td>\n",
       "      <td>Holon Institute of Technology, Holon--Israel</td>\n",
       "      <td>1</td>\n",
       "      <td>True</td>\n",
       "    </tr>\n",
       "    <tr>\n",
       "      <th>19189</th>\n",
       "      <td>Ariel University</td>\n",
       "      <td>Kansas State Univ.</td>\n",
       "      <td>4</td>\n",
       "      <td>True</td>\n",
       "    </tr>\n",
       "    <tr>\n",
       "      <th>19190</th>\n",
       "      <td>Ariel University</td>\n",
       "      <td>Sackler Faculty of Medicine, Tel Aviv Universi...</td>\n",
       "      <td>2</td>\n",
       "      <td>True</td>\n",
       "    </tr>\n",
       "    <tr>\n",
       "      <th>19191</th>\n",
       "      <td>Ariel University</td>\n",
       "      <td>School of Mathematical Sciences, Sackler Facul...</td>\n",
       "      <td>1</td>\n",
       "      <td>True</td>\n",
       "    </tr>\n",
       "    <tr>\n",
       "      <th>19192</th>\n",
       "      <td>Ariel University</td>\n",
       "      <td>School of Mathematics Tel Aviv University, Israel</td>\n",
       "      <td>1</td>\n",
       "      <td>True</td>\n",
       "    </tr>\n",
       "    <tr>\n",
       "      <th>19193</th>\n",
       "      <td>Ariel University</td>\n",
       "      <td>Univ of Michigan, Ann Arbor, MI USA</td>\n",
       "      <td>1</td>\n",
       "      <td>True</td>\n",
       "    </tr>\n",
       "    <tr>\n",
       "      <th>19194</th>\n",
       "      <td>Ariel University</td>\n",
       "      <td>Vanderbilt University, Nashville, TN USA#TAB#</td>\n",
       "      <td>1</td>\n",
       "      <td>True</td>\n",
       "    </tr>\n",
       "    <tr>\n",
       "      <th>19195</th>\n",
       "      <td>Ariel University</td>\n",
       "      <td>Washington University in St Louis, St Louis, M...</td>\n",
       "      <td>1</td>\n",
       "      <td>True</td>\n",
       "    </tr>\n",
       "    <tr>\n",
       "      <th>19196</th>\n",
       "      <td>Ariel University</td>\n",
       "      <td>Washington University in St. Louis#TAB#</td>\n",
       "      <td>1</td>\n",
       "      <td>True</td>\n",
       "    </tr>\n",
       "  </tbody>\n",
       "</table>\n",
       "</div>"
      ],
      "text/plain": [
       "                   org1                                               org2  \\\n",
       "19177  Ariel University               Capital One, Arlington, VA, USA#TAB#   \n",
       "19178  Ariel University  Communication Systems Engineering, Ben-Gurion ...   \n",
       "19179  Ariel University  Cyber Innovation Center, Department of Compute...   \n",
       "19180  Ariel University  Department of Computer Science, Ariel Universi...   \n",
       "19181  Ariel University  Department of Disaster Management and Injury P...   \n",
       "19182  Ariel University  Department of Electrical and Systems Engineeri...   \n",
       "19183  Ariel University  Department of Industrial Engineering & Managem...   \n",
       "19184  Ariel University  Department of Information Systems, Sam M. Walt...   \n",
       "19185  Ariel University  Dept. of Information & Knowledge Management, F...   \n",
       "19186  Ariel University  Faculty of Management, University of Haifa, Ha...   \n",
       "19187  Ariel University                 Google Inc, Mountain View, CA, USA   \n",
       "19188  Ariel University       Holon Institute of Technology, Holon--Israel   \n",
       "19189  Ariel University                                 Kansas State Univ.   \n",
       "19190  Ariel University  Sackler Faculty of Medicine, Tel Aviv Universi...   \n",
       "19191  Ariel University  School of Mathematical Sciences, Sackler Facul...   \n",
       "19192  Ariel University  School of Mathematics Tel Aviv University, Israel   \n",
       "19193  Ariel University                Univ of Michigan, Ann Arbor, MI USA   \n",
       "19194  Ariel University      Vanderbilt University, Nashville, TN USA#TAB#   \n",
       "19195  Ariel University  Washington University in St Louis, St Louis, M...   \n",
       "19196  Ariel University            Washington University in St. Louis#TAB#   \n",
       "\n",
       "       weight  valid_colab  \n",
       "19177       1         True  \n",
       "19178       1         True  \n",
       "19179       1         True  \n",
       "19180       3         True  \n",
       "19181       1         True  \n",
       "19182       2         True  \n",
       "19183       1         True  \n",
       "19184       2         True  \n",
       "19185       1         True  \n",
       "19186       1         True  \n",
       "19187       1         True  \n",
       "19188       1         True  \n",
       "19189       4         True  \n",
       "19190       2         True  \n",
       "19191       1         True  \n",
       "19192       1         True  \n",
       "19193       1         True  \n",
       "19194       1         True  \n",
       "19195       1         True  \n",
       "19196       1         True  "
      ]
     },
     "execution_count": 99,
     "metadata": {},
     "output_type": "execute_result"
    }
   ],
   "source": [
    "df_uni[(df_uni.org1 == 'Ariel University') ]"
   ]
  },
  {
   "cell_type": "code",
   "execution_count": 100,
   "metadata": {},
   "outputs": [
    {
     "data": {
      "image/png": "[encoded data removed]",
      "text/plain": [
       "<Figure size 432x432 with 1 Axes>"
      ]
     },
     "metadata": {
      "needs_background": "light"
     },
     "output_type": "display_data"
    }
   ],
   "source": [
    "plot_strength_dist(G)"
   ]
  },
  {
   "cell_type": "code",
   "execution_count": 101,
   "metadata": {},
   "outputs": [],
   "source": [
    "def plot_weight_dist(G): \n",
    "    weight_lst = list(nx.get_edge_attributes(G,'weight').values())\n",
    "    max_val = max(weight_lst)\n",
    "    weight_hist = np.histogram(weight_lst, np.arange(max_val+2))[0]\n",
    "    weight_hist = weight_hist.astype('float64')\n",
    "    weight_prob = weight_hist/len(weight_lst)\n",
    "    \n",
    "    # plotting\n",
    "    fig = plt.figure(figsize=(6,6))\n",
    "    axes = fig.add_axes([1,1,1,1])\n",
    "    \n",
    "    axes.loglog(np.arange(weight_prob.shape[0]), weight_prob, 'b.', markersize=15, alpha=0.5)\n",
    "    \n",
    "    axes.set_xlabel('w')\n",
    "    axes.set_ylabel('p(w)')\n",
    "    axes.set_title('Weight Distribution')\n",
    "    \n",
    "    plt.show()"
   ]
  },
  {
   "cell_type": "code",
   "execution_count": 102,
   "metadata": {},
   "outputs": [
    {
     "data": {
      "image/png": "[encoded data removed]",
      "text/plain": [
       "<Figure size 432x432 with 1 Axes>"
      ]
     },
     "metadata": {
      "needs_background": "light"
     },
     "output_type": "display_data"
    }
   ],
   "source": [
    "plot_weight_dist(G)"
   ]
  },
  {
   "cell_type": "code",
   "execution_count": 103,
   "metadata": {},
   "outputs": [],
   "source": [
    "def plot_k_vs_s(G):\n",
    "    \n",
    "    fig = plt.figure(figsize=(6,6))\n",
    "    axes = fig.add_axes([1,1,1,1])\n",
    "    \n",
    "    axes.loglog(list(dict(G.degree()).values()), list(dict(G.degree(weight='weight')).values()), \n",
    "                'b.', markersize=15, alpha=0.5)\n",
    "    \n",
    "    axes.set_xlabel('k')\n",
    "    axes.set_ylabel('s')\n",
    "    axes.set_title('degree vs. strength')\n",
    "\n",
    "    plt.plot([0,2000],[0,2000], color = 'r')\n",
    "    \n",
    "    plt.show()"
   ]
  },
  {
   "cell_type": "code",
   "execution_count": 104,
   "metadata": {},
   "outputs": [
    {
     "data": {
      "image/png": "[encoded data removed]",
      "text/plain": [
       "<Figure size 432x432 with 1 Axes>"
      ]
     },
     "metadata": {
      "needs_background": "light"
     },
     "output_type": "display_data"
    }
   ],
   "source": [
    "plot_k_vs_s(G)"
   ]
  },
  {
   "cell_type": "markdown",
   "metadata": {},
   "source": [
    "## Path length"
   ]
  },
  {
   "cell_type": "code",
   "execution_count": 105,
   "metadata": {},
   "outputs": [
    {
     "name": "stdout",
     "output_type": "stream",
     "text": [
      "Graph not connected: infinite path length\n"
     ]
    }
   ],
   "source": [
    "if nx.is_connected(G):\n",
    "    print (nx.average_shortest_path_length(G))\n",
    "else:\n",
    "    print ('Graph not connected: infinite path length')"
   ]
  },
  {
   "cell_type": "markdown",
   "metadata": {},
   "source": [
    "## KNN(k)"
   ]
  },
  {
   "cell_type": "code",
   "execution_count": 106,
   "metadata": {},
   "outputs": [],
   "source": [
    "def fit_func(x,a,mu):\n",
    "    return (a*x)**mu"
   ]
  },
  {
   "cell_type": "code",
   "execution_count": 107,
   "metadata": {},
   "outputs": [],
   "source": [
    "from scipy.optimize import curve_fit "
   ]
  },
  {
   "cell_type": "code",
   "execution_count": 108,
   "metadata": {},
   "outputs": [],
   "source": [
    "def plot_knn(G, fit=True): \n",
    "    knn_dict = nx.k_nearest_neighbors(G) # k_nearest_neighbors return dict with knn for each k\n",
    "    k_lst = sorted(knn_dict.keys())\n",
    "    knn_lst = []\n",
    "    for k in k_lst:\n",
    "        knn_lst.append(knn_dict[k])\n",
    "    \n",
    "    # plotting\n",
    "    fig = plt.figure(figsize=(6,6))\n",
    "    axes = fig.add_axes([1,1,1,1])\n",
    "    \n",
    "    axes.loglog(k_lst,knn_lst,'b.', markersize=15, alpha=0.5)\n",
    "    \n",
    "    axes.set_xlabel('k')\n",
    "    axes.set_ylabel('knn(k)')\n",
    "    axes.set_title('Average next neighbor degree')\n",
    "    \n",
    "    if fit:\n",
    "        # fit a*x^mu\n",
    "        popt, pcov = curve_fit(fit_func, np.array(k_lst), np.array(knn_lst),maxfev=10000)\n",
    "        axes.loglog(np.array(k_lst), fit_func(np.array(k_lst), *popt), '--', c='gray')\n",
    "    \n",
    "    plt.show()"
   ]
  },
  {
   "cell_type": "code",
   "execution_count": 109,
   "metadata": {},
   "outputs": [
    {
     "data": {
      "image/png": "[encoded data removed]",
      "text/plain": [
       "<Figure size 432x432 with 1 Axes>"
      ]
     },
     "metadata": {
      "needs_background": "light"
     },
     "output_type": "display_data"
    }
   ],
   "source": [
    "plot_knn(G)"
   ]
  },
  {
   "cell_type": "markdown",
   "metadata": {},
   "source": [
    "## Clustering coefficient\n"
   ]
  },
  {
   "cell_type": "code",
   "execution_count": 110,
   "metadata": {},
   "outputs": [
    {
     "name": "stdout",
     "output_type": "stream",
     "text": [
      "0.1909772752214129\n"
     ]
    }
   ],
   "source": [
    "print (nx.average_clustering(G))"
   ]
  },
  {
   "cell_type": "code",
   "execution_count": 111,
   "metadata": {},
   "outputs": [],
   "source": [
    "def plot_clustering_coefficient(G):\n",
    "    clustering_dict = {}\n",
    "    for node in G.nodes():\n",
    "        k = G.degree(node)\n",
    "        if not k in clustering_dict:\n",
    "            clustering_dict[k] = [nx.clustering(G,node)]\n",
    "        else:\n",
    "            clustering_dict[k].append(nx.clustering(G,node))\n",
    "    k_lst = sorted(clustering_dict.keys())\n",
    "    clustering_lst = []\n",
    "    for k in k_lst:\n",
    "        clustering_lst.append(np.array(clustering_dict[k]).mean())\n",
    "    \n",
    "    # plotting\n",
    "    fig = plt.figure(figsize=(6,6))\n",
    "    axes = fig.add_axes([1,1,1,1])\n",
    "    \n",
    "    axes.loglog(k_lst,clustering_lst,'b.', markersize=15, alpha=0.5)\n",
    "    \n",
    "    axes.set_xlabel('k')\n",
    "    axes.set_ylabel('C(k)')\n",
    "    axes.set_title('Average clustering coefficient')\n",
    "    \n",
    "    plt.show()"
   ]
  },
  {
   "cell_type": "code",
   "execution_count": 112,
   "metadata": {},
   "outputs": [
    {
     "data": {
      "image/png": "[encoded data removed]",
      "text/plain": [
       "<Figure size 432x432 with 1 Axes>"
      ]
     },
     "metadata": {
      "needs_background": "light"
     },
     "output_type": "display_data"
    }
   ],
   "source": [
    "plot_clustering_coefficient(G)"
   ]
  },
  {
   "cell_type": "code",
   "execution_count": 113,
   "metadata": {},
   "outputs": [
    {
     "name": "stdout",
     "output_type": "stream",
     "text": [
      "Size of largest component: 75174\n",
      "Degree Assortativity Coefficient (r): -0.03291226485354246\n"
     ]
    }
   ],
   "source": [
    "print ('Size of largest component: %s' % len(max(nx.connected_components(G), key=len)))\n",
    "print ('Degree Assortativity Coefficient (r): %s' % nx.degree_assortativity_coefficient(G))"
   ]
  },
  {
   "cell_type": "markdown",
   "metadata": {},
   "source": [
    "## Centrality"
   ]
  },
  {
   "cell_type": "code",
   "execution_count": 114,
   "metadata": {},
   "outputs": [],
   "source": [
    "deg_cen = nx.algorithms.centrality.degree_centrality(G)\n",
    "sorted_deg_cen = {k: v for k, v in sorted(deg_cen.items(), key=lambda item: item[1],reverse=True)}\n"
   ]
  },
  {
   "cell_type": "markdown",
   "metadata": {},
   "source": [
    "## Modulairty"
   ]
  },
  {
   "cell_type": "code",
   "execution_count": 115,
   "metadata": {},
   "outputs": [],
   "source": [
    "k = 100\n",
    "top_k_colaborators = list(sorted_deg_cen.keys())[:k]"
   ]
  },
  {
   "cell_type": "code",
   "execution_count": 116,
   "metadata": {},
   "outputs": [],
   "source": [
    "top_k_df = df_uni[(df_uni.org1.isin(top_k_colaborators)) & (df_uni.org2.isin(top_k_colaborators))].copy().reset_index()"
   ]
  },
  {
   "cell_type": "code",
   "execution_count": 117,
   "metadata": {},
   "outputs": [],
   "source": [
    "top_k_df = top_k_df[['org1','org2','weight']]"
   ]
  },
  {
   "cell_type": "code",
   "execution_count": 118,
   "metadata": {},
   "outputs": [],
   "source": [
    "top_k_df['_org1'] = ''\n",
    "top_k_df['_org2'] = ''\n",
    "for idx,row in top_k_df.iterrows():\n",
    "    org1_str = row.org1\n",
    "    srt1_repl = org1_str.replace('#TAB#','').replace('#R#','').replace('#N#','').replace('                 ','')\n",
    "    top_k_df.iloc[idx,3] = srt1_repl\n",
    "    org2_str = row.org2\n",
    "    srt2_repl = org2_str.replace('#TAB#','').replace('#R#','').replace('#N#','').replace('                 ','')\n",
    "    top_k_df.iloc[idx,4] = srt2_repl"
   ]
  },
  {
   "cell_type": "code",
   "execution_count": 119,
   "metadata": {},
   "outputs": [
    {
     "name": "stdout",
     "output_type": "stream",
     "text": [
      "Name: \n",
      "Type: Graph\n",
      "Number of nodes: 100\n",
      "Number of edges: 1580\n",
      "Average degree:  31.6000\n"
     ]
    }
   ],
   "source": [
    "G_top = nx.from_pandas_edgelist(top_k_df[['_org1','_org2','weight']],'_org1','_org2', edge_attr='weight')\n",
    "print(nx.info(G_top))"
   ]
  },
  {
   "cell_type": "code",
   "execution_count": null,
   "metadata": {},
   "outputs": [],
   "source": []
  },
  {
   "cell_type": "code",
   "execution_count": 120,
   "metadata": {},
   "outputs": [
    {
     "name": "stdout",
     "output_type": "stream",
     "text": [
      "The nummber of clusters using Louvain is 5\n",
      "Louvain modularity is 0.18728809459873916\n"
     ]
    }
   ],
   "source": [
    "louvain_partition = community.best_partition(G_top, weight='weight')\n",
    "modularity_louvain = community.modularity(louvain_partition, G_top, weight='weight')\n",
    "print(f'The nummber of clusters using Louvain is {len(set(louvain_partition.values()))}')\n",
    "print(f'Louvain modularity is {modularity_louvain}')"
   ]
  },
  {
   "cell_type": "code",
   "execution_count": 121,
   "metadata": {},
   "outputs": [],
   "source": [
    "greedy_modularity = greedy_modularity_communities(G_top,weight='weight')\n",
    "modularity_greedy = modularity(G_top,greedy_modularity,weight='weight')\n",
    "# print(f'The nummber of clusters using Louvain is {len(set(greedy_modularity.values()))} ')\n",
    "# print(f'Louvain modularity is {modularity_louvain}')"
   ]
  },
  {
   "cell_type": "code",
   "execution_count": 122,
   "metadata": {},
   "outputs": [
    {
     "data": {
      "text/plain": [
       "0.005990900197418591"
      ]
     },
     "execution_count": 122,
     "metadata": {},
     "output_type": "execute_result"
    }
   ],
   "source": [
    "modularity_greedy"
   ]
  },
  {
   "cell_type": "code",
   "execution_count": 123,
   "metadata": {},
   "outputs": [],
   "source": [
    "# nx.write_gml(G_top,'top_100_colaborators.gml')"
   ]
  },
  {
   "cell_type": "markdown",
   "metadata": {},
   "source": [
    "## Tel aviv university analysis"
   ]
  },
  {
   "cell_type": "code",
   "execution_count": 124,
   "metadata": {},
   "outputs": [],
   "source": [
    "tel_aviv_vari= ['Israel',\n",
    " 'Adi Lautman Interdisciplinary Program for Outstanding Students, Tel Aviv University, Tel-Aviv, Israel',\n",
    " 'Blavatnik Sch. of Comput. Sci., Tel Aviv Univ., Tel Aviv, Israel',\n",
    " 'Blavatnik School of Computer Science, Tel Aviv University, , Israel',\n",
    " 'Blavatnik School of Computer Science, Tel Aviv University, Tel Aviv, Israel',\n",
    " 'Computer Science, Tel Aviv University, 26745 Tel Aviv, NA Israel 6997801 (e-mail: nadavbar@mail.tau.ac.il)',\n",
    " 'Curiosity Lab, Department of Industrial Engineering, Tel Aviv University, Israel',\n",
    " 'Department of Biochemistry and Molecular Biology, George S. Wise Faculty of Life Sciences, Tel Aviv University, Tel Aviv, Israel.',\n",
    " 'Department of Disaster Management and Injury Prevention, Tel-Aviv University, Tel Aviv, Israel',\n",
    " 'Department of EE-Systems, Tel Aviv University, Tel Aviv, Israel#TAB#',\n",
    " 'Department of Electrical Engineering, Tel-Aviv University, Tel-Aviv, Israel#TAB#',\n",
    " 'Department of Electrical Engineering-Systems, Tel Aviv University, Tel Aviv, 6997801, Israel',\n",
    " 'Department of Human Molecular Genetics and Biochemistry, Sackler School of Medicine, Tel-Aviv University, Tel-Aviv, Israel',\n",
    " 'Department of Industrial Engineering, Tel Aviv University, Tel Aviv, Israel',\n",
    " 'Department of Neurobiology, Faculty of Life Sciences, Tel Aviv University, Tel Aviv, 6997801, Israel',\n",
    " 'Department of Sociology and Anthropology, Tel-Aviv University',\n",
    " 'Department of Statistics & Operations Research, Tel Aviv University, Tel Aviv, Israel#TAB#',\n",
    " 'Faculty of Management, Tel Aviv University, Tel Aviv 6997801, Israel;',\n",
    " 'Faculty of engineering, Tel Aviv University',\n",
    " 'Laboratory for AI, Machine Learning, Business & Data Analytics, Department of Industrial Engineering, The Tel-Aviv University, Ramat-Aviv 6997801 and Israel, --- Select a Country ---',\n",
    " 'Multiple Sclerosis Center, Sackler School of Medicine University, Tel-Hashomer, Tel-Aviv Israel',\n",
    " 'Porter School of the Environment and Earth Sciences, Faculty of Exact Sciences, Tel-Aviv University, Israel',\n",
    " 'Sagol Brain Institute, Wohl Institute for Advanced Imaging, Tel-Aviv Sourasky Medical Centre, Tel Aviv, Israel',\n",
    " 'Sagol Brain Institute, Wohl Institute for Advanced Imaging, Tel-Aviv Sourasky Medical Centre, Tel-Aviv, Israel',\n",
    " 'School of Computer Science, Academic College of Tel-Aviv Yaffo, Yaffo, Israel',\n",
    " 'School of Computer Science, Tel Aviv University Tel Aviv, Israel#TAB#',\n",
    " 'School of Electrical Engineering, Tel Aviv University, Tel Aviv, 6997801, Israel',\n",
    " 'School of Electrical Engineering, Tel-Aviv Univ., Israel#TAB#',\n",
    " 'School of Electrical Engineering, Tel-Aviv University, Tel-Aviv, ISRAEL',\n",
    " 'School of Mathematical Sciences, Sackler Faculty of Exact SciencesTel Aviv UniversityTel Aviv Israel',\n",
    " 'School of Mathematical Sciences, Tel Aviv University, Tel Aviv 69978, Israel',\n",
    " 'School of Mathematical Sciences, Tel-Aviv University, Ramat-Aviv 69978, Israel',\n",
    " 'School of Mathematics Tel Aviv University, Israel',\n",
    " 'Tel Aviv Univ, Israel',\n",
    " 'Tel Aviv University Tel Aviv, Israel',\n",
    " 'Tel Aviv University and Cornell Tech',\n",
    " 'Tel Aviv University, Blavatnik School of Computer Science, Israel',\n",
    " 'Tel Aviv University, Tel Aviv, Israel',\n",
    " 'Tel Aviv University,School of Electrical Engineering,Tel Aviv-Yafo,Israel',\n",
    " 'Tel Aviv University; .',\n",
    " 'Tel-Aviv University, Israel., Tel-Aviv, Israel',\n",
    " 'Tel‐Aviv University ,',\n",
    " 'The Raymond and Beverley Sackler Center for Computational Molecularand Materials Science, Tel Aviv University']"
   ]
  },
  {
   "cell_type": "markdown",
   "metadata": {},
   "source": [
    "NETWORK OF COLABORATIONS OF ALL TEL AVIV FACULTIES"
   ]
  },
  {
   "cell_type": "code",
   "execution_count": 125,
   "metadata": {},
   "outputs": [],
   "source": [
    "tel_aviv_vari = []\n",
    "for i in np.unique(df_uni.org1.to_list()):\n",
    "    if(i.find('Aviv') > -1):\n",
    "        tel_aviv_vari.append(i)"
   ]
  },
  {
   "cell_type": "code",
   "execution_count": 126,
   "metadata": {},
   "outputs": [],
   "source": [
    "df1 = df_uni[['org2','org1','weight']]\n",
    "df1.columns = ['org1','org2','weight']\n",
    "df2 = df_uni[['org1','org2','weight']]\n",
    "df_concat = pd.concat([df2,df1])"
   ]
  },
  {
   "cell_type": "code",
   "execution_count": 127,
   "metadata": {},
   "outputs": [
    {
     "name": "stderr",
     "output_type": "stream",
     "text": [
      "c:\\python37\\lib\\site-packages\\pandas\\core\\generic.py:5165: SettingWithCopyWarning: \n",
      "A value is trying to be set on a copy of a slice from a DataFrame.\n",
      "Try using .loc[row_indexer,col_indexer] = value instead\n",
      "\n",
      "See the caveats in the documentation: https://pandas.pydata.org/pandas-docs/stable/user_guide/indexing.html#returning-a-view-versus-a-copy\n",
      "  self[name] = value\n"
     ]
    }
   ],
   "source": [
    "df_tel_aviv = df_concat[(df_concat.org1.isin(tel_aviv_vari)) & (~df_concat.org2.isin(tel_aviv_vari))]\n",
    "df_tel_aviv.org1 = 'Tel Aviv'"
   ]
  },
  {
   "cell_type": "code",
   "execution_count": 128,
   "metadata": {},
   "outputs": [],
   "source": [
    "df_tel_aviv = df_tel_aviv.groupby(['org1','org2']).sum().reset_index()"
   ]
  },
  {
   "cell_type": "code",
   "execution_count": 129,
   "metadata": {},
   "outputs": [],
   "source": [
    "new_name = []\n",
    "for name in df_tel_aviv.org2:\n",
    "    new_name.append(name.replace('#TAB#','').replace('#tab#','').replace('#TAB#','').replace('#N#',''))\n",
    "df_tel_aviv.org2 = new_name"
   ]
  },
  {
   "cell_type": "code",
   "execution_count": 130,
   "metadata": {},
   "outputs": [],
   "source": [
    "G = nx.from_pandas_edgelist(df_tel_aviv,'org1','org2', edge_attr='weight')\n",
    "# nx.write_gml(G,'tel_aviv_colab2.gml')"
   ]
  },
  {
   "cell_type": "code",
   "execution_count": 131,
   "metadata": {},
   "outputs": [
    {
     "data": {
      "text/html": [
       "<div>\n",
       "<style scoped>\n",
       "    .dataframe tbody tr th:only-of-type {\n",
       "        vertical-align: middle;\n",
       "    }\n",
       "\n",
       "    .dataframe tbody tr th {\n",
       "        vertical-align: top;\n",
       "    }\n",
       "\n",
       "    .dataframe thead th {\n",
       "        text-align: right;\n",
       "    }\n",
       "</style>\n",
       "<table border=\"1\" class=\"dataframe\">\n",
       "  <thead>\n",
       "    <tr style=\"text-align: right;\">\n",
       "      <th></th>\n",
       "      <th>org1</th>\n",
       "      <th>org2</th>\n",
       "      <th>weight</th>\n",
       "    </tr>\n",
       "  </thead>\n",
       "  <tbody>\n",
       "    <tr>\n",
       "      <th>206</th>\n",
       "      <td>Tel Aviv</td>\n",
       "      <td>Princeton University</td>\n",
       "      <td>28</td>\n",
       "    </tr>\n",
       "    <tr>\n",
       "      <th>240</th>\n",
       "      <td>Tel Aviv</td>\n",
       "      <td>Stanford University</td>\n",
       "      <td>18</td>\n",
       "    </tr>\n",
       "    <tr>\n",
       "      <th>61</th>\n",
       "      <td>Tel Aviv</td>\n",
       "      <td>Department of Computer Sci. and Eng., The Chin...</td>\n",
       "      <td>16</td>\n",
       "    </tr>\n",
       "    <tr>\n",
       "      <th>137</th>\n",
       "      <td>Tel Aviv</td>\n",
       "      <td>Imsight Medical Technology, Co., Ltd., Shenzhe...</td>\n",
       "      <td>14</td>\n",
       "    </tr>\n",
       "    <tr>\n",
       "      <th>276</th>\n",
       "      <td>Tel Aviv</td>\n",
       "      <td>University of Cambridge</td>\n",
       "      <td>13</td>\n",
       "    </tr>\n",
       "    <tr>\n",
       "      <th>119</th>\n",
       "      <td>Tel Aviv</td>\n",
       "      <td>Google</td>\n",
       "      <td>13</td>\n",
       "    </tr>\n",
       "    <tr>\n",
       "      <th>9</th>\n",
       "      <td>Tel Aviv</td>\n",
       "      <td>, Facebook AI Research</td>\n",
       "      <td>12</td>\n",
       "    </tr>\n",
       "    <tr>\n",
       "      <th>171</th>\n",
       "      <td>Tel Aviv</td>\n",
       "      <td>MIT</td>\n",
       "      <td>12</td>\n",
       "    </tr>\n",
       "    <tr>\n",
       "      <th>71</th>\n",
       "      <td>Tel Aviv</td>\n",
       "      <td>Department of Computing, Imeprial College Lond...</td>\n",
       "      <td>12</td>\n",
       "    </tr>\n",
       "    <tr>\n",
       "      <th>181</th>\n",
       "      <td>Tel Aviv</td>\n",
       "      <td>Microsoft</td>\n",
       "      <td>11</td>\n",
       "    </tr>\n",
       "    <tr>\n",
       "      <th>1</th>\n",
       "      <td>Tel Aviv</td>\n",
       "      <td>Bar-Ilan University</td>\n",
       "      <td>10</td>\n",
       "    </tr>\n",
       "    <tr>\n",
       "      <th>252</th>\n",
       "      <td>Tel Aviv</td>\n",
       "      <td>The Chinese University of Hong Kong, and Key L...</td>\n",
       "      <td>10</td>\n",
       "    </tr>\n",
       "    <tr>\n",
       "      <th>246</th>\n",
       "      <td>Tel Aviv</td>\n",
       "      <td>Technion , Haifa, Israel</td>\n",
       "      <td>9</td>\n",
       "    </tr>\n",
       "    <tr>\n",
       "      <th>129</th>\n",
       "      <td>Tel Aviv</td>\n",
       "      <td>IBM</td>\n",
       "      <td>9</td>\n",
       "    </tr>\n",
       "    <tr>\n",
       "      <th>44</th>\n",
       "      <td>Tel Aviv</td>\n",
       "      <td>College of Computer Science and Software Engin...</td>\n",
       "      <td>9</td>\n",
       "    </tr>\n",
       "    <tr>\n",
       "      <th>281</th>\n",
       "      <td>Tel Aviv</td>\n",
       "      <td>University of Haifa</td>\n",
       "      <td>8</td>\n",
       "    </tr>\n",
       "    <tr>\n",
       "      <th>122</th>\n",
       "      <td>Tel Aviv</td>\n",
       "      <td>Guangdong Provincial Key Laboratory of Compute...</td>\n",
       "      <td>8</td>\n",
       "    </tr>\n",
       "    <tr>\n",
       "      <th>40</th>\n",
       "      <td>Tel Aviv</td>\n",
       "      <td>Centre for Smart Health, School of Nursing, Th...</td>\n",
       "      <td>8</td>\n",
       "    </tr>\n",
       "    <tr>\n",
       "      <th>312</th>\n",
       "      <td>Tel Aviv</td>\n",
       "      <td>Weizmann institute of Science</td>\n",
       "      <td>8</td>\n",
       "    </tr>\n",
       "    <tr>\n",
       "      <th>92</th>\n",
       "      <td>Tel Aviv</td>\n",
       "      <td>Dept. of Comput. Sci. &amp; Eng., Chinese Univ. of...</td>\n",
       "      <td>7</td>\n",
       "    </tr>\n",
       "  </tbody>\n",
       "</table>\n",
       "</div>"
      ],
      "text/plain": [
       "         org1                                               org2  weight\n",
       "206  Tel Aviv                               Princeton University      28\n",
       "240  Tel Aviv                                Stanford University      18\n",
       "61   Tel Aviv  Department of Computer Sci. and Eng., The Chin...      16\n",
       "137  Tel Aviv  Imsight Medical Technology, Co., Ltd., Shenzhe...      14\n",
       "276  Tel Aviv                            University of Cambridge      13\n",
       "119  Tel Aviv                                             Google      13\n",
       "9    Tel Aviv                             , Facebook AI Research      12\n",
       "171  Tel Aviv                                                MIT      12\n",
       "71   Tel Aviv  Department of Computing, Imeprial College Lond...      12\n",
       "181  Tel Aviv                                          Microsoft      11\n",
       "1    Tel Aviv                                Bar-Ilan University      10\n",
       "252  Tel Aviv  The Chinese University of Hong Kong, and Key L...      10\n",
       "246  Tel Aviv                           Technion , Haifa, Israel       9\n",
       "129  Tel Aviv                                                IBM       9\n",
       "44   Tel Aviv  College of Computer Science and Software Engin...       9\n",
       "281  Tel Aviv                                University of Haifa       8\n",
       "122  Tel Aviv  Guangdong Provincial Key Laboratory of Compute...       8\n",
       "40   Tel Aviv  Centre for Smart Health, School of Nursing, Th...       8\n",
       "312  Tel Aviv                      Weizmann institute of Science       8\n",
       "92   Tel Aviv  Dept. of Comput. Sci. & Eng., Chinese Univ. of...       7"
      ]
     },
     "execution_count": 131,
     "metadata": {},
     "output_type": "execute_result"
    }
   ],
   "source": [
    "df_tel_aviv.sort_values(by='weight',ascending=False).head(20)"
   ]
  },
  {
   "cell_type": "markdown",
   "metadata": {},
   "source": [
    "COLABORATIONS INSIDE TEL AVIV UNIVERSITY"
   ]
  },
  {
   "cell_type": "code",
   "execution_count": 132,
   "metadata": {},
   "outputs": [],
   "source": [
    "inside_tel_aviv = [\n",
    " 'Adi Lautman Interdisciplinary Program for Outstanding Students, Tel Aviv University, Tel-Aviv, Israel',\n",
    " 'Afeka, Tel-Aviv Academic College of Engineering, Israel',\n",
    " 'Blavatnik Sch. of Comput. Sci., Tel Aviv Univ., Tel Aviv, Israel',\n",
    " 'Blavatnik School of Computer Science, Tel Aviv University, , Israel',\n",
    " 'Blavatnik School of Computer Science, Tel Aviv University, Tel Aviv, Israel',\n",
    " 'Computer Science, Tel Aviv University, 26745 Tel Aviv, NA Israel 6997801 (e-mail: nadavbar@mail.tau.ac.il)',\n",
    " 'Curiosity Lab, Department of Industrial Engineering, Tel Aviv University, Israel',\n",
    " 'Department of Biochemistry and Molecular Biology, George S. Wise Faculty of Life Sciences, Tel Aviv University, Tel Aviv, Israel.',\n",
    " 'Department of Disaster Management and Injury Prevention, Tel-Aviv University, Tel Aviv, Israel',\n",
    " 'Department of EE-Systems, Tel Aviv University, Tel Aviv, Israel#TAB#',\n",
    " 'Department of Electrical Engineering, Tel-Aviv University, Tel-Aviv, Israel#TAB#',\n",
    " 'Department of Electrical Engineering-Systems, Tel Aviv University, Tel Aviv, 6997801, Israel',\n",
    " 'Department of Human Molecular Genetics and Biochemistry, Sackler School of Medicine, Tel-Aviv University, Tel-Aviv, Israel',\n",
    " 'Department of Industrial Engineering, Ariel University, Ariel, Israel, LAMBDA Lab, Tel-Aviv University, Tel-Aviv and Israel, --- Select a Country ---',\n",
    " 'Department of Industrial Engineering, Tel Aviv University, Tel Aviv, Israel',\n",
    " 'Department of Neurobiology, Faculty of Life Sciences, Tel Aviv University, Tel Aviv, 6997801, Israel',\n",
    " 'Department of Sociology and Anthropology, Tel-Aviv University',\n",
    " 'Department of Statistics & Operations Research, Tel Aviv University, Tel Aviv, Israel#TAB#',\n",
    " 'Diagnostic Imaging, Sheba Medical Center, affiliated to the Sackler School of Medicine, Tel-Aviv University, Israel',\n",
    " 'Faculty of Management, Tel Aviv University, Tel Aviv 6997801, Israel;',\n",
    " 'Faculty of engineering, Tel Aviv University',\n",
    " 'Foretellix Ltd., Tel-Aviv, Israel',\n",
    " 'Functional Brain Center, Wohl Institute for Advanced Imaging, Tel Aviv Medical Center, Israel',\n",
    " 'Laboratory for AI, Machine Learning, Business & Data Analytics, Department of Industrial Engineering, The Tel-Aviv University, Ramat-Aviv 6997801 and Israel, --- Select a Country ---',\n",
    " 'Management Wing, Chaim Sheba Medical Center, Tel-Hashomer, Ramat Gan, Sackler Faculty of Medicine, Tel Aviv University, Tel Aviv, Israel',\n",
    " 'Multiple Sclerosis Center, Sackler School of Medicine University, Tel-Hashomer, Tel-Aviv Israel',\n",
    " 'Porter School of the Environment and Earth Sciences, Faculty of Exact Sciences, Tel-Aviv University, Israel',\n",
    " 'Private Veterinary Practice, Tel Aviv, Israel',\n",
    " 'Sagol Brain Institute, Wohl Institute for Advanced Imaging, Tel-Aviv Sourasky Medical Centre, Tel Aviv, Israel',\n",
    " 'Sagol Brain Institute, Wohl Institute for Advanced Imaging, Tel-Aviv Sourasky Medical Centre, Tel-Aviv, Israel',\n",
    " 'School of Computer Science, Academic College of Tel-Aviv Yaffo, Yaffo, Israel',\n",
    " 'School of Computer Science, Tel Aviv University Tel Aviv, Israel#TAB#',\n",
    " 'School of Electrical Engineering, Tel Aviv University, Tel Aviv, 6997801, Israel',\n",
    " 'School of Electrical Engineering, Tel-Aviv Univ., Israel#TAB#',\n",
    " 'School of Electrical Engineering, Tel-Aviv University, Tel-Aviv, ISRAEL',\n",
    " 'School of Mathematical Sciences, Sackler Faculty of Exact SciencesTel Aviv UniversityTel Aviv Israel',\n",
    " 'School of Mathematical Sciences, Tel Aviv University, Tel Aviv 69978, Israel',\n",
    " 'School of Mathematical Sciences, Tel-Aviv University, Ramat-Aviv 69978, Israel',\n",
    " 'School of Mathematics Tel Aviv University, Israel',\n",
    " 'Sheba Medical Center, Diagnostic Imaging Department, Abdominal Imaging Unit, affiliated to Sackler School of Medicine Tel Aviv University, Tel Hashomer 52621, Israel',\n",
    " 'Sheba Medical Center, Israel; Tel Aviv University, Israel',\n",
    " 'Tel Aviv University, Blavatnik School of Computer Science, Israel',\n",
    " 'Tel Aviv University,School of Electrical Engineering,Tel Aviv-Yafo,Israel',\n",
    " 'The Raymond and Beverley Sackler Center for Computational Molecularand Materials Science, Tel Aviv University']"
   ]
  },
  {
   "cell_type": "code",
   "execution_count": 133,
   "metadata": {},
   "outputs": [],
   "source": [
    "df_inside_tel_aviv = df_concat[(df_concat.org1.isin(inside_tel_aviv)) & (~df_concat.org2.isin(inside_tel_aviv))]"
   ]
  }
 ],
 "metadata": {
  "kernelspec": {
   "display_name": "Python 3",
   "language": "python",
   "name": "python3"
  },
  "language_info": {
   "codemirror_mode": {
    "name": "ipython",
    "version": 3
   },
   "file_extension": ".py",
   "mimetype": "text/x-python",
   "name": "python",
   "nbconvert_exporter": "python",
   "pygments_lexer": "ipython3",
   "version": "3.7.7"
  }
 },
 "nbformat": 4,
 "nbformat_minor": 4
}
